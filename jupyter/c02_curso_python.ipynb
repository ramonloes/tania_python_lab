{
 "cells": [
  {
   "cell_type": "markdown",
   "metadata": {},
   "source": [
    "# ¡Listas y Tuplas! </font>\n",
    "<img style=\"float: left; margin: 0px 0px 15px 15px;\" src=\"img/boxes.png\" width=\"350px\" height=\"350px\" />"
   ]
  },
  {
   "cell_type": "markdown",
   "metadata": {},
   "source": [
    "# 1. Listas"
   ]
  },
  {
   "cell_type": "markdown",
   "metadata": {},
   "source": [
    "## 1.1 Conceptos Generales\n",
    "\n",
    "Las listas son objetos mutables que pueden contener cualquier tipo de dato: números,  cadenas, etc. Crear una lista es sencillo: se deben encerrar entre corchetes los valores que  se quieran ingresar, y estos deben estar separados entre sí por una coma.\n",
    "\n",
    "Veamos un par de ejemplos de como crearlas:"
   ]
  },
  {
   "cell_type": "code",
   "execution_count": 3,
   "metadata": {},
   "outputs": [
    {
     "name": "stdout",
     "output_type": "stream",
     "text": [
      "[2, 4, 6, 8]\n"
     ]
    }
   ],
   "source": [
    "# Lista de número pares\n",
    "pares = [2, 4, 6, 8]\n",
    "\n",
    "# Una lista con cadenas de caracteres (planetas puede ser...)\n",
    "cadenas_caract = ['Mercurio', 'Venus', 'Tierra', 'Marte', 'Jupiter', 'Saturno', 'Urano', 'Neptuno']\n",
    "\n",
    "# Una lista combinadita...\n",
    "combinadita = [1, 'dos', 3.0, 'cuatro', 5, 'Fin', 'holis']\n",
    "\n",
    "# O simplemente, una lista de nada.\n",
    "lista = [ ]\n",
    "\n",
    "print(pares)"
   ]
  },
  {
   "cell_type": "markdown",
   "metadata": {},
   "source": [
    "Pregunta: ¿Podremos hacer una lista que contenga listas adentro?"
   ]
  },
  {
   "cell_type": "code",
   "execution_count": 5,
   "metadata": {},
   "outputs": [
    {
     "name": "stdout",
     "output_type": "stream",
     "text": [
      "[['hola'], ['adios'], 3]\n"
     ]
    }
   ],
   "source": [
    "# ¿Lista de listas? Sipirili\n",
    "lista_de_listas = [['hola'], ['adios'], 3]\n",
    "print(lista_de_listas)"
   ]
  },
  {
   "cell_type": "markdown",
   "metadata": {},
   "source": [
    "Pregunta: ¿Qué notas de extraño en la siguiente lista?"
   ]
  },
  {
   "cell_type": "code",
   "execution_count": 6,
   "metadata": {},
   "outputs": [
    {
     "name": "stdout",
     "output_type": "stream",
     "text": [
      "<class '_sitebuiltins._Helper'>\n"
     ]
    }
   ],
   "source": [
    "# Lista quiz\n",
    "quiz = [1, 2, 'Marte', help, -5, 'Python', [ ], 2]\n",
    "\n",
    "print(type(help))"
   ]
  },
  {
   "cell_type": "markdown",
   "metadata": {},
   "source": [
    "## 1.2 Posición (index) de una lista"
   ]
  },
  {
   "cell_type": "markdown",
   "metadata": {},
   "source": [
    "Podemos acceder a los elementos individuales pertenecientes a la lista a través de brackets ([ ]).\n",
    "\n",
    "<b>Nota:</b> ¡Python empiezo las posiciones desde cero! - El famoso \"off by one\"...\n",
    "\n",
    "<img style=\"float: left; margin: 0px 0px 15px 15px;\" src=\"img/obiwan.jpg\" width=\"350px\" height=\"350px\" />"
   ]
  },
  {
   "cell_type": "code",
   "execution_count": 8,
   "metadata": {},
   "outputs": [
    {
     "name": "stdout",
     "output_type": "stream",
     "text": [
      "La mejor escuela en el mundo es:  Universidad de Guanajuato\n"
     ]
    }
   ],
   "source": [
    "# Ejemplo de \"indexado\"\n",
    "mejores_escuelas = ['Universidad de Guanajuato', 'MIT', 'Stanford', 'Harvard', 'Caltech', 'Oxford']\n",
    "\n",
    "# Imprimpir la mejor escuela, la número uno de la lista\n",
    "print('La mejor escuela en el mundo es: ', mejores_escuelas[0])"
   ]
  },
  {
   "cell_type": "markdown",
   "metadata": {},
   "source": [
    "Pregunta: ¿Qué haríamos si queremos conocer la peor escuela que está dentro del conjunto de las mejores escuelas?"
   ]
  },
  {
   "cell_type": "code",
   "execution_count": 16,
   "metadata": {},
   "outputs": [
    {
     "name": "stdout",
     "output_type": "stream",
     "text": [
      "Oxford\n"
     ]
    }
   ],
   "source": [
    "long_list = len(mejores_escuelas)\n",
    "# print(long_list)\n",
    "\n",
    "# print(mejores_escuelas[long_list - 1])\n",
    "print(mejores_escuelas[-1])"
   ]
  },
  {
   "cell_type": "markdown",
   "metadata": {},
   "source": [
    "## 1.2.1 Slicing de listas"
   ]
  },
  {
   "cell_type": "markdown",
   "metadata": {},
   "source": [
    "El famoso \"slicing\" nos permitirá obtener en una sola instrucción, un subconjunto lógico de una lista.\n",
    "\n",
    "Veremos los siguientes ejemplos:\n",
    " - Tomar valores desde la primer posición hasta n\n",
    " - Tomar los últimos n valores de una lista\n",
    " - Tomar todos los valores menos los últimos n elementos\n",
    " - Tomar los elementos cada n posiciones\n",
    " - Invertir una lista\n",
    " - Copia de lista\n",
    " - Borrado por slicing"
   ]
  },
  {
   "cell_type": "code",
   "execution_count": 17,
   "metadata": {},
   "outputs": [],
   "source": [
    "# Definamos nuestra lista para el ejercicio\n",
    "lista_general = [2, 3, 5, 7, 11, 13, 17, 19, 23, 29] "
   ]
  },
  {
   "cell_type": "markdown",
   "metadata": {},
   "source": [
    "<b>Ejemplo #1: Tomar valores desde la primer posición hasta n</b>\n",
    "\n",
    "Tomemos los primeros 4 números primos de la lista..."
   ]
  },
  {
   "cell_type": "code",
   "execution_count": 21,
   "metadata": {},
   "outputs": [
    {
     "name": "stdout",
     "output_type": "stream",
     "text": [
      "[13, 17, 19, 23, 29]\n"
     ]
    }
   ],
   "source": [
    "primeros_cuatro_lista = lista_general[5:10000]\n",
    "print(primeros_cuatro_lista)"
   ]
  },
  {
   "cell_type": "markdown",
   "metadata": {},
   "source": [
    "Podemos hacerlo de otra manera :)"
   ]
  },
  {
   "cell_type": "code",
   "execution_count": 23,
   "metadata": {},
   "outputs": [
    {
     "name": "stdout",
     "output_type": "stream",
     "text": [
      "[2, 3, 5, 7, 11, 13, 17, 19, 23, 29]\n"
     ]
    }
   ],
   "source": [
    "primeros_cuatro_lista = lista_general[:]\n",
    "print(primeros_cuatro_lista)"
   ]
  },
  {
   "cell_type": "markdown",
   "metadata": {},
   "source": [
    "<b>Ejemplo #2: Tomar los últimos n valores de una lista</b>\n",
    "\n",
    "Tomemos los últimos 3 números primos de la lista..."
   ]
  },
  {
   "cell_type": "code",
   "execution_count": 29,
   "metadata": {},
   "outputs": [
    {
     "name": "stdout",
     "output_type": "stream",
     "text": [
      "[17, 19]\n"
     ]
    }
   ],
   "source": [
    "ultimos_tres_lista = lista_general[-4:-2]\n",
    "print(ultimos_tres_lista)"
   ]
  },
  {
   "cell_type": "markdown",
   "metadata": {},
   "source": [
    "<b>Puntos a remarcar: </b>\n",
    " - Primer argumento del slicing: inicio\n",
    " - Segundo argumento del slicing: fin"
   ]
  },
  {
   "cell_type": "markdown",
   "metadata": {},
   "source": [
    "<b>Ejemplo #3: Tomar todos los valores menos los últimos n elementos</b>\n",
    "\n",
    "Tomemos todos los elementos de la lista, menos los últimos 3"
   ]
  },
  {
   "cell_type": "code",
   "execution_count": 30,
   "metadata": {},
   "outputs": [
    {
     "name": "stdout",
     "output_type": "stream",
     "text": [
      "[2, 3, 5, 7, 11, 13, 17]\n"
     ]
    }
   ],
   "source": [
    "todos_menos_ult_tres = lista_general[:-3]\n",
    "print(todos_menos_ult_tres)"
   ]
  },
  {
   "cell_type": "markdown",
   "metadata": {},
   "source": [
    "<b>Ejemplo #4: Tomar los elementos cada n posiciones</b>\n",
    "\n",
    "Tomemos todos los elementos haciendo saltitos de 2 en 2..."
   ]
  },
  {
   "cell_type": "code",
   "execution_count": 34,
   "metadata": {},
   "outputs": [
    {
     "name": "stdout",
     "output_type": "stream",
     "text": [
      "[2, 3, 5, 7, 11, 13, 17, 19, 23, 29]\n"
     ]
    }
   ],
   "source": [
    "dos_en_dos = lista_general[::]\n",
    "print(dos_en_dos)"
   ]
  },
  {
   "cell_type": "markdown",
   "metadata": {},
   "source": [
    "<b>Puntos a remarcar: </b>\n",
    " - Primer argumento del slicing: inicio\n",
    " - Segundo argumento del slicing: fin\n",
    " - Tercer argumento: salto"
   ]
  },
  {
   "cell_type": "markdown",
   "metadata": {},
   "source": [
    "<b>Ejemplo #4: Invertir una lista</b>\n",
    "\n",
    "Por diversión, vamos a invertir los valores de nuestra lista..."
   ]
  },
  {
   "cell_type": "code",
   "execution_count": 35,
   "metadata": {},
   "outputs": [
    {
     "name": "stdout",
     "output_type": "stream",
     "text": [
      "[29, 23, 19, 17, 13, 11, 7, 5, 3, 2]\n"
     ]
    }
   ],
   "source": [
    "lista_invertida = lista_general[::-1]\n",
    "print(lista_invertida)"
   ]
  },
  {
   "cell_type": "markdown",
   "metadata": {},
   "source": [
    "Ahora, que tal que queremos en una sola línea de código, tomar los primeros 2 valores de la lista invertida"
   ]
  },
  {
   "cell_type": "code",
   "execution_count": 40,
   "metadata": {},
   "outputs": [
    {
     "name": "stdout",
     "output_type": "stream",
     "text": [
      "4\n"
     ]
    }
   ],
   "source": [
    "x = [1, 2, 3, 4]\n",
    "\n",
    "y = x[::-1]\n",
    "z = y[:2]\n",
    "\n",
    "\n",
    "\n",
    "# print(y)\n",
    "# print(z)\n",
    "\n",
    "h = x[::-1][:2][0]\n",
    "print(h)"
   ]
  },
  {
   "cell_type": "code",
   "execution_count": 42,
   "metadata": {},
   "outputs": [
    {
     "name": "stdout",
     "output_type": "stream",
     "text": [
      "['Universidad de Guanajuato', 'MIT', 'Stanford']\n",
      "Universidad de Guanajuato\n"
     ]
    }
   ],
   "source": [
    "mejores_escuelas = ['Universidad de Guanajuato', 'MIT', 'Stanford', 'Harvard', 'Caltech', 'Oxford', 'UAG', 'UdeG', 'UAZ']\n",
    "\n",
    "top_3 = mejores_escuelas[:3]\n",
    "mejor_escuela = top_3[0]\n",
    "\n",
    "print(top_3)\n",
    "print(mejor_escuela)"
   ]
  },
  {
   "cell_type": "code",
   "execution_count": 43,
   "metadata": {},
   "outputs": [
    {
     "name": "stdout",
     "output_type": "stream",
     "text": [
      "[29, 23]\n"
     ]
    }
   ],
   "source": [
    "lista_invertida_prim_dos = lista_general[::-1][:2]\n",
    "print(lista_invertida_prim_dos)"
   ]
  },
  {
   "cell_type": "markdown",
   "metadata": {},
   "source": [
    "Algo todavía más divertido, de la lista invertida, los valores desde la posición 2 hasta el final de la misma"
   ]
  },
  {
   "cell_type": "code",
   "execution_count": 44,
   "metadata": {},
   "outputs": [
    {
     "name": "stdout",
     "output_type": "stream",
     "text": [
      "[23, 19, 17, 13, 11, 7, 5, 3, 2]\n"
     ]
    }
   ],
   "source": [
    "lista_invertida_divertida = lista_general[::-1][1:]\n",
    "print(lista_invertida_divertida)"
   ]
  },
  {
   "cell_type": "markdown",
   "metadata": {},
   "source": [
    "Podemos hacerlo de otra manera..."
   ]
  },
  {
   "cell_type": "code",
   "execution_count": 45,
   "metadata": {},
   "outputs": [
    {
     "name": "stdout",
     "output_type": "stream",
     "text": [
      "[2, 3, 5, 7, 11, 13, 17, 19, 23, 29]\n",
      "[23, 19, 17, 13, 11, 7, 5, 3, 2]\n"
     ]
    }
   ],
   "source": [
    "lista_general = [2, 3, 5, 7, 11, 13, 17, 19, 23, 29] \n",
    "\n",
    "lista_invertida_divertida = lista_general[-2::-1]\n",
    "print(lista_general)\n",
    "print(lista_invertida_divertida)"
   ]
  },
  {
   "cell_type": "markdown",
   "metadata": {},
   "source": [
    "<b>Ejemplo #5: Copia de lista</b>\n",
    "\n",
    "Hasta ahora le hemos asignado los resultados a una variable... ¿y porqué?\n",
    "\n",
    "<img style=\"float: left; margin: 0px 0px 15px 15px;\" src=\"img/buttons.jpg\" width=\"350px\" height=\"350px\" />"
   ]
  },
  {
   "cell_type": "code",
   "execution_count": 46,
   "metadata": {},
   "outputs": [
    {
     "name": "stdout",
     "output_type": "stream",
     "text": [
      "[1, 2, 3, 4, 5]\n"
     ]
    }
   ],
   "source": [
    "lista_nueva = [1, 2, 3, 4, 5]\n",
    "lista_nueva[:2]\n",
    "print(lista_nueva)"
   ]
  },
  {
   "cell_type": "code",
   "execution_count": 48,
   "metadata": {},
   "outputs": [
    {
     "name": "stdout",
     "output_type": "stream",
     "text": [
      "Hola Otto\n",
      "3\n"
     ]
    }
   ],
   "source": [
    "x = 'Hola Otto'\n",
    "x.upper()\n",
    "print(x)\n",
    "\n",
    "x = 1\n",
    "y = 2\n",
    "z = x + y\n",
    "\n",
    "print(z)"
   ]
  },
  {
   "cell_type": "markdown",
   "metadata": {},
   "source": [
    "La funcionalidad de slicing no hace modificaciones \"in place\", solo regresa los valores encontrados. Pero que pasa si modifico una lista directamente."
   ]
  },
  {
   "cell_type": "code",
   "execution_count": 49,
   "metadata": {},
   "outputs": [
    {
     "name": "stdout",
     "output_type": "stream",
     "text": [
      "[10, 2, 3, 4, 5]\n"
     ]
    }
   ],
   "source": [
    "lista_nueva[0] = 10\n",
    "print(lista_nueva)"
   ]
  },
  {
   "cell_type": "markdown",
   "metadata": {},
   "source": [
    "¿Y si queremos modificar una lista sin perder los valores originales?"
   ]
  },
  {
   "cell_type": "code",
   "execution_count": 50,
   "metadata": {},
   "outputs": [
    {
     "name": "stdout",
     "output_type": "stream",
     "text": [
      "[10, 21, 3, 4, 5]\n",
      "[10, 21, 3, 4, 5]\n"
     ]
    }
   ],
   "source": [
    "# a = b = c\n",
    "lista_nueva_dos = lista_nueva\n",
    "lista_nueva[1] = 21\n",
    "print(lista_nueva)\n",
    "print(lista_nueva_dos)"
   ]
  },
  {
   "cell_type": "markdown",
   "metadata": {},
   "source": [
    "Definamos nuestra lista de nuevo, y ahora sí, hagamos los pasos correctos..."
   ]
  },
  {
   "cell_type": "code",
   "execution_count": 51,
   "metadata": {},
   "outputs": [
    {
     "name": "stdout",
     "output_type": "stream",
     "text": [
      "[1, 2, 3, 4, 5]\n",
      "[10, 2, 3, 4, 50]\n"
     ]
    }
   ],
   "source": [
    "lista_nueva_nueva = [1, 2, 3, 4, 5]\n",
    "lista_nueva_nueva_dos = lista_nueva_nueva[:]\n",
    "lista_nueva_nueva_dos[0], lista_nueva_nueva_dos[-1] = 10, 50\n",
    "\n",
    "print(lista_nueva_nueva)\n",
    "print(lista_nueva_nueva_dos)"
   ]
  },
  {
   "cell_type": "markdown",
   "metadata": {},
   "source": [
    "<b>Ejemplo #5: Borrado por slicing</b>\n",
    "\n",
    "Que tal que queremos borrar un bonche de datos en un solo golpe..."
   ]
  },
  {
   "cell_type": "code",
   "execution_count": null,
   "metadata": {},
   "outputs": [],
   "source": [
    "lista_borrado = ['Jesus', 'Perez', 'Chavez', '11 anios', '1.50 m']\n",
    "lista_copia = lista_borrado[:]\n",
    "\n",
    "del lista_copia[3:]\n",
    "\n",
    "print(lista_borrado)\n",
    "print(lista_copia)"
   ]
  },
  {
   "cell_type": "markdown",
   "metadata": {},
   "source": [
    "## 1.3 Métodos de las listas"
   ]
  },
  {
   "cell_type": "markdown",
   "metadata": {},
   "source": [
    "<b>¡Pregunta!: </b> ¿Recuerdan como pedir ayuda a Python si deseamos conocer las funcionalidades que tiene un objeto?"
   ]
  },
  {
   "cell_type": "code",
   "execution_count": 1,
   "metadata": {},
   "outputs": [
    {
     "name": "stdout",
     "output_type": "stream",
     "text": [
      "Help on class list in module builtins:\n",
      "\n",
      "class list(object)\n",
      " |  list(iterable=(), /)\n",
      " |  \n",
      " |  Built-in mutable sequence.\n",
      " |  \n",
      " |  If no argument is given, the constructor creates a new empty list.\n",
      " |  The argument must be an iterable if specified.\n",
      " |  \n",
      " |  Methods defined here:\n",
      " |  \n",
      " |  __add__(self, value, /)\n",
      " |      Return self+value.\n",
      " |  \n",
      " |  __contains__(self, key, /)\n",
      " |      Return key in self.\n",
      " |  \n",
      " |  __delitem__(self, key, /)\n",
      " |      Delete self[key].\n",
      " |  \n",
      " |  __eq__(self, value, /)\n",
      " |      Return self==value.\n",
      " |  \n",
      " |  __ge__(self, value, /)\n",
      " |      Return self>=value.\n",
      " |  \n",
      " |  __getattribute__(self, name, /)\n",
      " |      Return getattr(self, name).\n",
      " |  \n",
      " |  __getitem__(...)\n",
      " |      x.__getitem__(y) <==> x[y]\n",
      " |  \n",
      " |  __gt__(self, value, /)\n",
      " |      Return self>value.\n",
      " |  \n",
      " |  __iadd__(self, value, /)\n",
      " |      Implement self+=value.\n",
      " |  \n",
      " |  __imul__(self, value, /)\n",
      " |      Implement self*=value.\n",
      " |  \n",
      " |  __init__(self, /, *args, **kwargs)\n",
      " |      Initialize self.  See help(type(self)) for accurate signature.\n",
      " |  \n",
      " |  __iter__(self, /)\n",
      " |      Implement iter(self).\n",
      " |  \n",
      " |  __le__(self, value, /)\n",
      " |      Return self<=value.\n",
      " |  \n",
      " |  __len__(self, /)\n",
      " |      Return len(self).\n",
      " |  \n",
      " |  __lt__(self, value, /)\n",
      " |      Return self<value.\n",
      " |  \n",
      " |  __mul__(self, value, /)\n",
      " |      Return self*value.\n",
      " |  \n",
      " |  __ne__(self, value, /)\n",
      " |      Return self!=value.\n",
      " |  \n",
      " |  __repr__(self, /)\n",
      " |      Return repr(self).\n",
      " |  \n",
      " |  __reversed__(self, /)\n",
      " |      Return a reverse iterator over the list.\n",
      " |  \n",
      " |  __rmul__(self, value, /)\n",
      " |      Return value*self.\n",
      " |  \n",
      " |  __setitem__(self, key, value, /)\n",
      " |      Set self[key] to value.\n",
      " |  \n",
      " |  __sizeof__(self, /)\n",
      " |      Return the size of the list in memory, in bytes.\n",
      " |  \n",
      " |  append(self, object, /)\n",
      " |      Append object to the end of the list.\n",
      " |  \n",
      " |  clear(self, /)\n",
      " |      Remove all items from list.\n",
      " |  \n",
      " |  copy(self, /)\n",
      " |      Return a shallow copy of the list.\n",
      " |  \n",
      " |  count(self, value, /)\n",
      " |      Return number of occurrences of value.\n",
      " |  \n",
      " |  extend(self, iterable, /)\n",
      " |      Extend list by appending elements from the iterable.\n",
      " |  \n",
      " |  index(self, value, start=0, stop=9223372036854775807, /)\n",
      " |      Return first index of value.\n",
      " |      \n",
      " |      Raises ValueError if the value is not present.\n",
      " |  \n",
      " |  insert(self, index, object, /)\n",
      " |      Insert object before index.\n",
      " |  \n",
      " |  pop(self, index=-1, /)\n",
      " |      Remove and return item at index (default last).\n",
      " |      \n",
      " |      Raises IndexError if list is empty or index is out of range.\n",
      " |  \n",
      " |  remove(self, value, /)\n",
      " |      Remove first occurrence of value.\n",
      " |      \n",
      " |      Raises ValueError if the value is not present.\n",
      " |  \n",
      " |  reverse(self, /)\n",
      " |      Reverse *IN PLACE*.\n",
      " |  \n",
      " |  sort(self, /, *, key=None, reverse=False)\n",
      " |      Sort the list in ascending order and return None.\n",
      " |      \n",
      " |      The sort is in-place (i.e. the list itself is modified) and stable (i.e. the\n",
      " |      order of two equal elements is maintained).\n",
      " |      \n",
      " |      If a key function is given, apply it once to each list item and sort them,\n",
      " |      ascending or descending, according to their function values.\n",
      " |      \n",
      " |      The reverse flag can be set to sort in descending order.\n",
      " |  \n",
      " |  ----------------------------------------------------------------------\n",
      " |  Class methods defined here:\n",
      " |  \n",
      " |  __class_getitem__(...) from builtins.type\n",
      " |      See PEP 585\n",
      " |  \n",
      " |  ----------------------------------------------------------------------\n",
      " |  Static methods defined here:\n",
      " |  \n",
      " |  __new__(*args, **kwargs) from builtins.type\n",
      " |      Create and return a new object.  See help(type) for accurate signature.\n",
      " |  \n",
      " |  ----------------------------------------------------------------------\n",
      " |  Data and other attributes defined here:\n",
      " |  \n",
      " |  __hash__ = None\n",
      "\n"
     ]
    }
   ],
   "source": [
    "help(list)"
   ]
  },
  {
   "cell_type": "markdown",
   "metadata": {},
   "source": [
    "Los métodos más comunes de las listas son los siguientes:\n",
    "- <b>extend(x): </b>Extiende la lista añadiendo la lista x al final.\n",
    "- <b>append(x): </b>Añade un elemento al final de la lista.\n",
    "- <b>insert(x, y): </b>Añade un elemento x en el índice y.\n",
    "- <b>remove(x): </b>Elimina el primer elemento de la lista cuyo valor sea x.\n",
    "- <b>pop(x): </b>Elimina y retorna el elemento de la lista en el índice x.\n",
    "- <b>index(x): </b>Retorna el índice del primer elemento en la lista cuyo valor sea x.\n",
    "- <b>count(x): </b>Retorna las veces que se encuentra el valor x en la lista.\n",
    "- <b>reverse( ): </b>Invierte el orden de los elementos de la lista.\n",
    "- <b>sort(x): </b>Ordena la lista."
   ]
  },
  {
   "cell_type": "code",
   "execution_count": 2,
   "metadata": {},
   "outputs": [],
   "source": [
    "lista_uno = ['reloj', 'Python', 'en', 'cafe', 'programar']\n",
    "lista_dos = ['perro', 'sencillo', 'platillo', 'es']\n",
    "lista_tres = [ ]"
   ]
  },
  {
   "cell_type": "code",
   "execution_count": 3,
   "metadata": {},
   "outputs": [
    {
     "name": "stdout",
     "output_type": "stream",
     "text": [
      "['Python', 'en', 'cafe', 'programar']\n",
      "2\n",
      "2\n"
     ]
    }
   ],
   "source": [
    "lista_uno.remove('reloj')\n",
    "print(lista_uno)\n",
    "\n",
    "x = lista_uno.index('cafe')\n",
    "print(x)\n",
    "print(lista_uno.index('cafe'))"
   ]
  },
  {
   "cell_type": "code",
   "execution_count": 5,
   "metadata": {},
   "outputs": [
    {
     "name": "stdout",
     "output_type": "stream",
     "text": [
      "programar\n",
      "['Python', 'en']\n",
      "['perro', 'sencillo', 'platillo', 'es']\n"
     ]
    }
   ],
   "source": [
    "print(lista_uno.pop(2))\n",
    "print(lista_uno)\n",
    "print(lista_dos)"
   ]
  },
  {
   "cell_type": "code",
   "execution_count": 6,
   "metadata": {},
   "outputs": [
    {
     "name": "stdout",
     "output_type": "stream",
     "text": [
      "['sencillo', 'es']\n"
     ]
    }
   ],
   "source": [
    "lista_dos.pop(0) and lista_dos.pop(1)\n",
    "print(lista_dos)"
   ]
  },
  {
   "cell_type": "code",
   "execution_count": 8,
   "metadata": {},
   "outputs": [
    {
     "name": "stdout",
     "output_type": "stream",
     "text": [
      "[1, 2, 5]\n"
     ]
    }
   ],
   "source": [
    "lista_otto = [1, 2, 3]\n",
    "lista_otto.pop(2) and lista_otto.append(5)\n",
    "print(lista_otto)"
   ]
  },
  {
   "cell_type": "markdown",
   "metadata": {},
   "source": [
    "NOTA: ¿Qué pasa si no ponemos argumento en el método pop?"
   ]
  },
  {
   "cell_type": "code",
   "execution_count": 9,
   "metadata": {},
   "outputs": [
    {
     "name": "stdout",
     "output_type": "stream",
     "text": [
      "[1, 2, 3, 4]\n",
      "[1, 2, 3]\n",
      "4\n"
     ]
    }
   ],
   "source": [
    "lista_pop_ejemplo = [1, 2, 3, 4, 5]\n",
    "lista_pop_ejemplo.pop()\n",
    "print(lista_pop_ejemplo)\n",
    "\n",
    "valor_regresado = lista_pop_ejemplo.pop()\n",
    "print(lista_pop_ejemplo)\n",
    "print(valor_regresado)"
   ]
  },
  {
   "cell_type": "markdown",
   "metadata": {},
   "source": [
    "Continuemos con el ejemplo principal..."
   ]
  },
  {
   "cell_type": "code",
   "execution_count": 10,
   "metadata": {},
   "outputs": [
    {
     "name": "stdout",
     "output_type": "stream",
     "text": [
      "['sencillo', 'es', 'Python', 'en']\n"
     ]
    }
   ],
   "source": [
    "lista_dos.extend(lista_uno)\n",
    "print(lista_dos)"
   ]
  },
  {
   "cell_type": "code",
   "execution_count": 11,
   "metadata": {},
   "outputs": [
    {
     "name": "stdout",
     "output_type": "stream",
     "text": [
      "['en', 'Python', 'es', 'sencillo']\n"
     ]
    }
   ],
   "source": [
    "lista_dos.reverse()\n",
    "print(lista_dos)"
   ]
  },
  {
   "cell_type": "markdown",
   "metadata": {},
   "source": [
    "Por último, usaremos el comando <b>append</b> para anexar la \"lista_2\" dentro de la \"lista_3\""
   ]
  },
  {
   "cell_type": "code",
   "execution_count": 15,
   "metadata": {},
   "outputs": [
    {
     "name": "stdout",
     "output_type": "stream",
     "text": [
      "[['en', 'Python', 'es', 'sencillo']]\n"
     ]
    }
   ],
   "source": [
    "lista_tres = []\n",
    "lista_tres.append(lista_dos)\n",
    "print(lista_tres)"
   ]
  },
  {
   "cell_type": "code",
   "execution_count": 16,
   "metadata": {},
   "outputs": [
    {
     "name": "stdout",
     "output_type": "stream",
     "text": [
      "[['en', 'Python', 'es', 'sencillo'], 2]\n"
     ]
    }
   ],
   "source": [
    "lista_tres.append(2)\n",
    "print(lista_tres)"
   ]
  },
  {
   "cell_type": "markdown",
   "metadata": {},
   "source": [
    "<b>Ejercicio</b>\n",
    "\n",
    "Genere una lista con la siguiente estructura:\n",
    "\n",
    "[10, 20, [300, 400, [5000, 6000], 500], 30, 40]\n",
    "\n",
    "Agregue el valor de 7000 enseguida del valor de 6000. La salida deseada debe ser la siguiente:\n",
    "\n",
    "[10, 20, [300, 400, [5000, 6000, 7000], 500], 30, 40]"
   ]
  },
  {
   "cell_type": "code",
   "execution_count": 19,
   "metadata": {},
   "outputs": [
    {
     "name": "stdout",
     "output_type": "stream",
     "text": [
      "[10, 20, [300, 400, [5000, 6000], 500], 30, 40]\n",
      "[300, 400, [5000, 6000], 500]\n",
      "[5000, 6000]\n",
      "[10, 20, [300, 400, [5000, 6000, 7000], 500], 30, 40]\n"
     ]
    }
   ],
   "source": [
    "lista_uno = [10, 20, [300, 400, [5000, 6000], 500], 30, 40]\n",
    "\n",
    "print(lista_uno)\n",
    "print(lista_uno[2])\n",
    "print(lista_uno[2][2])\n",
    "\n",
    "lista_uno[2][2].append(7000)\n",
    "print(lista_uno)"
   ]
  },
  {
   "cell_type": "markdown",
   "metadata": {},
   "source": [
    "<b>Ejercicio</b>\n",
    "\n",
    "Genere una lista con la siguiente estructura:\n",
    "\n",
    "[\"a\", \"b\", [\"c\", [\"d\", \"e\", [\"f\", \"g\"], \"k\"], \"l\"], \"m\", \"n\"]\n",
    "\n",
    "Genere una segunda lista con la siguiente estructura:\n",
    "\n",
    "[\"h\", \"i\", \"j\"]\n",
    "\n",
    "Extienda la lista de alguna manera para que obtengamos el siguiente resultado:\n",
    "\n",
    "['a', 'b', ['c', ['d', 'e', ['f', 'g', 'h', 'i', 'j'], 'k'], 'l'], 'm', 'n']"
   ]
  },
  {
   "cell_type": "code",
   "execution_count": 32,
   "metadata": {},
   "outputs": [
    {
     "name": "stdout",
     "output_type": "stream",
     "text": [
      "['a', 'b', ['c', ['d', 'e', ['f', 'g'], 'k'], 'l'], 'm', 'n']\n",
      "['c', ['d', 'e', ['f', 'g'], 'k'], 'l']\n",
      "['d', 'e', ['f', 'g'], 'k']\n",
      "['f', 'g']\n",
      "['a', 'b', ['c', ['d', 'e', ['f', 'g', 'h', 'i', 'j'], 'k'], 'l'], 'm', 'n']\n"
     ]
    }
   ],
   "source": [
    "lista_uno = [\"a\", \"b\", [\"c\", [\"d\", \"e\", [\"f\", \"g\"], \"k\"], \"l\"], \"m\", \"n\"]\n",
    "listo_dos = [\"h\", \"i\", \"j\"]\n",
    "\n",
    "print(lista_uno)\n",
    "print(lista_uno[2])\n",
    "print(lista_uno[2][1])\n",
    "print(lista_uno[2][1][2])\n",
    "\n",
    "lista_uno[2][1][2].extend(listo_dos)\n",
    "print(lista_uno)"
   ]
  },
  {
   "cell_type": "markdown",
   "metadata": {},
   "source": [
    "## 1.4 Funciones externas a los métodos de un objeto lista"
   ]
  },
  {
   "cell_type": "markdown",
   "metadata": {},
   "source": [
    "Además de los métodos ya integrados en el objeto lista, existen funciones externas que nos pueden a ayudar a hacer operaciones interesantes, como es obtener el valor máximo de una lista, el mínimo, la sumatoria de sus elementos, etcétera.\n",
    "\n",
    "Veamos algunos ejemplos..."
   ]
  },
  {
   "cell_type": "code",
   "execution_count": 26,
   "metadata": {},
   "outputs": [],
   "source": [
    "lista_numeros = [1, 2, 3, 4, 5, 6, 7, 8, 9, 10]\n",
    "lista_letras = ['a', 'n', 'i', 't', 'a', 'l', 'a', 'v', 'a', 'l', 'a', 't', 'i', 'n', 'a']"
   ]
  },
  {
   "cell_type": "code",
   "execution_count": 30,
   "metadata": {},
   "outputs": [
    {
     "name": "stdout",
     "output_type": "stream",
     "text": [
      "Max num:  10\n",
      "Max char:  v\n",
      "Min num:  1\n",
      "Min char:  a\n",
      "Long lista num:  10\n",
      "Long lista char:  15\n",
      "Sumatoria de la lista de numeros:  55\n",
      "anitalavalatina\n",
      "anitalavalatina\n",
      "['hola', 'cara', 'bola', 'caracola']\n",
      "anitalavalatinaensucasa\n",
      "asacusneanitalavalatina\n",
      "True\n"
     ]
    }
   ],
   "source": [
    "print('Max num: ', max(lista_numeros))\n",
    "print('Max char: ', max(lista_letras))\n",
    "\n",
    "print('Min num: ', min(lista_numeros))\n",
    "print('Min char: ', min(lista_letras))\n",
    "\n",
    "print('Long lista num: ', len(lista_numeros))\n",
    "print('Long lista char: ', len(lista_letras))\n",
    "\n",
    "print('Sumatoria de la lista de numeros: ', sum(lista_numeros))\n",
    "\n",
    "cadena_caract = ''.join(lista_letras)\n",
    "print(cadena_caract)\n",
    "print(cadena_caract[::-1])\n",
    "\n",
    "cadena_caract_dos = 'hola,cara,bola,caracola'\n",
    "print(cadena_caract_dos.split(','))\n",
    "\n",
    "cadena_caract = cadena_caract + 'ensucasa'\n",
    "print(cadena_caract)\n",
    "print(cadena_caract[::-1])\n",
    "\n",
    "print(5 in lista_numeros)"
   ]
  },
  {
   "cell_type": "code",
   "execution_count": 2,
   "metadata": {},
   "outputs": [
    {
     "name": "stdout",
     "output_type": "stream",
     "text": [
      "{'b', 'c', 'a'}\n",
      "<class 'set'>\n",
      "<class 'list'>\n"
     ]
    }
   ],
   "source": [
    "# Ejemplo de casteo de variables, pero con una finalidad util e interesante...\n",
    "lista_numeros_dos = ['a', 'a', 'b', 'c', 'c']\n",
    "print(set(lista_numeros_dos))\n",
    "print(type(set(lista_numeros_dos)))\n",
    "print(type(lista_numeros_dos))"
   ]
  },
  {
   "cell_type": "code",
   "execution_count": 3,
   "metadata": {},
   "outputs": [
    {
     "name": "stdout",
     "output_type": "stream",
     "text": [
      "{1, 2, 3}\n",
      "[1, 2, 3]\n"
     ]
    }
   ],
   "source": [
    "def casting(var):\n",
    "    return list(var)\n",
    "\n",
    "x = {1, 2, 3}\n",
    "y = casting(x)\n",
    "print(x)\n",
    "print(y)"
   ]
  },
  {
   "cell_type": "code",
   "execution_count": 5,
   "metadata": {},
   "outputs": [
    {
     "name": "stdout",
     "output_type": "stream",
     "text": [
      "['D', 'r', 'a', 'g', 'o', 'n', ' ', 'B', 'a', 'l', 'l']\n",
      "D\n"
     ]
    }
   ],
   "source": [
    "z = 'Dragon Ball'\n",
    "print(list(z))\n",
    "print(z[0])"
   ]
  },
  {
   "cell_type": "markdown",
   "metadata": {},
   "source": [
    "# 2. Tuplas"
   ]
  },
  {
   "cell_type": "markdown",
   "metadata": {},
   "source": [
    "## 1.1 Conceptos Generales\n",
    "\n",
    "Las tuplas son objetos <b>inmutables</b> que se asemejan a las listas: se tiene acceso a sus componentes por índices. Las tuplas son representadas por paréntesis en lugar de los famosos brackets."
   ]
  },
  {
   "cell_type": "code",
   "execution_count": 6,
   "metadata": {},
   "outputs": [],
   "source": [
    "ejemplo_tupla = (1, 2, 3, 4)"
   ]
  },
  {
   "cell_type": "markdown",
   "metadata": {},
   "source": [
    "Una tupla <b>no</b> puede modificarse de ningún modo después de su creación."
   ]
  },
  {
   "cell_type": "code",
   "execution_count": 7,
   "metadata": {},
   "outputs": [
    {
     "name": "stdout",
     "output_type": "stream",
     "text": [
      "4\n",
      "(1, 2, 3)\n",
      "10\n"
     ]
    }
   ],
   "source": [
    "print(ejemplo_tupla[-1])\n",
    "print(ejemplo_tupla[:3])\n",
    "print(sum(ejemplo_tupla))"
   ]
  },
  {
   "cell_type": "code",
   "execution_count": 11,
   "metadata": {},
   "outputs": [
    {
     "name": "stdout",
     "output_type": "stream",
     "text": [
      "(4, 3, 2, 1)\n"
     ]
    }
   ],
   "source": [
    "print(tuple(sorted(ejemplo_tupla, reverse=True)))"
   ]
  },
  {
   "cell_type": "code",
   "execution_count": 10,
   "metadata": {},
   "outputs": [
    {
     "name": "stdout",
     "output_type": "stream",
     "text": [
      "Help on built-in function sorted in module builtins:\n",
      "\n",
      "sorted(iterable, /, *, key=None, reverse=False)\n",
      "    Return a new list containing all items from the iterable in ascending order.\n",
      "    \n",
      "    A custom key function can be supplied to customize the sort order, and the\n",
      "    reverse flag can be set to request the result in descending order.\n",
      "\n"
     ]
    }
   ],
   "source": [
    "help(sorted)"
   ]
  },
  {
   "cell_type": "code",
   "execution_count": 12,
   "metadata": {},
   "outputs": [
    {
     "ename": "TypeError",
     "evalue": "'tuple' object does not support item assignment",
     "output_type": "error",
     "traceback": [
      "\u001b[0;31m---------------------------------------------------------------------------\u001b[0m",
      "\u001b[0;31mTypeError\u001b[0m                                 Traceback (most recent call last)",
      "Cell \u001b[0;32mIn[12], line 1\u001b[0m\n\u001b[0;32m----> 1\u001b[0m \u001b[43mejemplo_tupla\u001b[49m\u001b[43m[\u001b[49m\u001b[38;5;241;43m0\u001b[39;49m\u001b[43m]\u001b[49m \u001b[38;5;241m=\u001b[39m \u001b[38;5;241m1\u001b[39m\n",
      "\u001b[0;31mTypeError\u001b[0m: 'tuple' object does not support item assignment"
     ]
    }
   ],
   "source": [
    "ejemplo_tupla[0] = 1"
   ]
  },
  {
   "cell_type": "markdown",
   "metadata": {},
   "source": [
    "¿Qué podemos hacer con las tuplas? Vamos a preguntarle a Python (:"
   ]
  },
  {
   "cell_type": "code",
   "execution_count": 13,
   "metadata": {},
   "outputs": [
    {
     "name": "stdout",
     "output_type": "stream",
     "text": [
      "Help on class tuple in module builtins:\n",
      "\n",
      "class tuple(object)\n",
      " |  tuple(iterable=(), /)\n",
      " |  \n",
      " |  Built-in immutable sequence.\n",
      " |  \n",
      " |  If no argument is given, the constructor returns an empty tuple.\n",
      " |  If iterable is specified the tuple is initialized from iterable's items.\n",
      " |  \n",
      " |  If the argument is a tuple, the return value is the same object.\n",
      " |  \n",
      " |  Built-in subclasses:\n",
      " |      asyncgen_hooks\n",
      " |      UnraisableHookArgs\n",
      " |  \n",
      " |  Methods defined here:\n",
      " |  \n",
      " |  __add__(self, value, /)\n",
      " |      Return self+value.\n",
      " |  \n",
      " |  __contains__(self, key, /)\n",
      " |      Return key in self.\n",
      " |  \n",
      " |  __eq__(self, value, /)\n",
      " |      Return self==value.\n",
      " |  \n",
      " |  __ge__(self, value, /)\n",
      " |      Return self>=value.\n",
      " |  \n",
      " |  __getattribute__(self, name, /)\n",
      " |      Return getattr(self, name).\n",
      " |  \n",
      " |  __getitem__(self, key, /)\n",
      " |      Return self[key].\n",
      " |  \n",
      " |  __getnewargs__(self, /)\n",
      " |  \n",
      " |  __gt__(self, value, /)\n",
      " |      Return self>value.\n",
      " |  \n",
      " |  __hash__(self, /)\n",
      " |      Return hash(self).\n",
      " |  \n",
      " |  __iter__(self, /)\n",
      " |      Implement iter(self).\n",
      " |  \n",
      " |  __le__(self, value, /)\n",
      " |      Return self<=value.\n",
      " |  \n",
      " |  __len__(self, /)\n",
      " |      Return len(self).\n",
      " |  \n",
      " |  __lt__(self, value, /)\n",
      " |      Return self<value.\n",
      " |  \n",
      " |  __mul__(self, value, /)\n",
      " |      Return self*value.\n",
      " |  \n",
      " |  __ne__(self, value, /)\n",
      " |      Return self!=value.\n",
      " |  \n",
      " |  __repr__(self, /)\n",
      " |      Return repr(self).\n",
      " |  \n",
      " |  __rmul__(self, value, /)\n",
      " |      Return value*self.\n",
      " |  \n",
      " |  count(self, value, /)\n",
      " |      Return number of occurrences of value.\n",
      " |  \n",
      " |  index(self, value, start=0, stop=9223372036854775807, /)\n",
      " |      Return first index of value.\n",
      " |      \n",
      " |      Raises ValueError if the value is not present.\n",
      " |  \n",
      " |  ----------------------------------------------------------------------\n",
      " |  Class methods defined here:\n",
      " |  \n",
      " |  __class_getitem__(...) from builtins.type\n",
      " |      See PEP 585\n",
      " |  \n",
      " |  ----------------------------------------------------------------------\n",
      " |  Static methods defined here:\n",
      " |  \n",
      " |  __new__(*args, **kwargs) from builtins.type\n",
      " |      Create and return a new object.  See help(type) for accurate signature.\n",
      "\n"
     ]
    }
   ],
   "source": [
    "help(tuple)"
   ]
  },
  {
   "cell_type": "code",
   "execution_count": 14,
   "metadata": {},
   "outputs": [
    {
     "name": "stdout",
     "output_type": "stream",
     "text": [
      "3\n",
      "1\n"
     ]
    }
   ],
   "source": [
    "ejemplo_tupla = (1, 2, 1, 1, 4, 3, 3, 2)\n",
    "print(ejemplo_tupla.count(1))\n",
    "print(ejemplo_tupla.index(2))"
   ]
  },
  {
   "cell_type": "markdown",
   "metadata": {},
   "source": [
    "Si una tupla salvaje les aparece alguna vez en su vida y desean poderle modificar sus valores como si fuera una lista, ¿qué harían?"
   ]
  },
  {
   "cell_type": "code",
   "execution_count": null,
   "metadata": {},
   "outputs": [],
   "source": [
    "lista_de_tupla = list(ejemplo_tupla)\n",
    "print(lista_de_tupla)\n",
    "\n",
    "lista_de_tupla[2] = 0\n",
    "print(lista_de_tupla)"
   ]
  },
  {
   "cell_type": "markdown",
   "metadata": {},
   "source": [
    "___\n",
    "Hoy vimos:\n",
    "- Listas\n",
    "\t- Conceptos Generales\n",
    "\t- Posición de una Listas\n",
    "\t- Slicing de Listas\n",
    "\t- Métodos de las listas\n",
    "\t- Funciones externas a las listas\n",
    "- Tuplas\n",
    "\t- Conceptos Generales"
   ]
  },
  {
   "cell_type": "markdown",
   "metadata": {},
   "source": [
    "<script>\n",
    "  $(document).ready(function(){\n",
    "    $('div.prompt').hide();\n",
    "    $('div.back-to-top').hide();\n",
    "    $('nav#menubar').hide();\n",
    "    $('.breadcrumb').hide();\n",
    "    $('.hidden-print').hide();\n",
    "  });\n",
    "</script>\n",
    "\n",
    "<footer id=\"attribution\" style=\"float:right; color:#808080; background:#fff;\">\n",
    "Created with Jupyter by Ramón López Escudero.\n",
    "</footer>"
   ]
  }
 ],
 "metadata": {
  "kernelspec": {
   "display_name": "Python 3 (ipykernel)",
   "language": "python",
   "name": "python3"
  },
  "language_info": {
   "codemirror_mode": {
    "name": "ipython",
    "version": 3
   },
   "file_extension": ".py",
   "mimetype": "text/x-python",
   "name": "python",
   "nbconvert_exporter": "python",
   "pygments_lexer": "ipython3",
   "version": "3.11.4"
  }
 },
 "nbformat": 4,
 "nbformat_minor": 4
}
